{
 "cells": [
  {
   "cell_type": "code",
   "execution_count": 3,
   "metadata": {},
   "outputs": [],
   "source": [
    "import matplotlib.pyplot as plt\n",
    "import numpy as n\n",
    "from pymatgen import Structure, Lattice, MPRester\n",
    "import crystal_toolkit\n",
    "plt.ion()"
   ]
  },
  {
   "cell_type": "markdown",
   "metadata": {},
   "source": [
    "# Structure"
   ]
  },
  {
   "cell_type": "code",
   "execution_count": 4,
   "metadata": {},
   "outputs": [],
   "source": [
    "coords = [[0, 0, 0], [0.75,0.5,0.75]]\n",
    "lattice = Lattice.from_parameters(a=3.84, b=3.84, c=3.84, alpha=120,\n",
    "                                  beta=90, gamma=60)\n",
    "struct = Structure(lattice, [\"Si\", \"Si\"], coords)"
   ]
  },
  {
   "cell_type": "code",
   "execution_count": 6,
   "metadata": {},
   "outputs": [
    {
     "data": {
      "application/vnd.mp.ctk+json": {
       "contents": [
        {
         "contents": [
          {
           "clickable": true,
           "color": "#f0c8a0",
           "id": "--atoms--0",
           "positions": [
            [
             0,
             0,
             0
            ],
            [
             0,
             0,
             0
            ],
            [
             0,
             0,
             0
            ],
            [
             0,
             0,
             0
            ],
            [
             0,
             0,
             0
            ],
            [
             0,
             0,
             0
            ],
            [
             0,
             0,
             0
            ],
            [
             0,
             0,
             0
            ]
           ],
           "radius": 0.5,
           "tooltip": "Si (0.000, 0.000, 0.000)",
           "type": "spheres"
          },
          {
           "clickable": true,
           "color": "#f0c8a0",
           "id": "--atoms--1",
           "positions": [
            [
             3.84,
             1.3576450198781713,
             1.9200000000000006
            ]
           ],
           "radius": 0.5,
           "tooltip": "Si (3.840, 1.358, 1.920)",
           "type": "spheres"
          }
         ],
         "id": "--atoms",
         "name": "atoms",
         "origin": [
          -2.88,
          -1.3576450198781713,
          -0.9600000000000005
         ],
         "visible": true
        },
        {
         "contents": [],
         "id": "--bonds",
         "name": "bonds",
         "origin": [
          -2.88,
          -1.3576450198781713,
          -0.9600000000000005
         ],
         "visible": true
        },
        {
         "contents": [],
         "id": "--polyhedra",
         "name": "polyhedra",
         "origin": [
          -2.88,
          -1.3576450198781713,
          -0.9600000000000005
         ],
         "visible": true
        },
        {
         "contents": [
          {
           "contents": [
            {
             "clickable": false,
             "id": "--unit_cell--a=3.84, b=3.8399999999999994, c=3.84, alpha=119.99999999999999, beta=90.0, gamma=60.00000000000001--0",
             "positions": [
              [
               0,
               0,
               0
              ],
              [
               3.84,
               0,
               2.351321854362918e-16
              ],
              [
               0,
               0,
               0
              ],
              [
               1.92,
               2.7152900397563426,
               -1.919999999999999
              ],
              [
               0,
               0,
               0
              ],
              [
               0,
               0,
               3.84
              ],
              [
               3.84,
               0,
               2.351321854362918e-16
              ],
              [
               5.76,
               2.7152900397563426,
               -1.9199999999999988
              ],
              [
               3.84,
               0,
               2.351321854362918e-16
              ],
              [
               3.84,
               0,
               3.8400000000000003
              ],
              [
               1.92,
               2.7152900397563426,
               -1.919999999999999
              ],
              [
               5.76,
               2.7152900397563426,
               -1.9199999999999988
              ],
              [
               1.92,
               2.7152900397563426,
               -1.919999999999999
              ],
              [
               1.92,
               2.7152900397563426,
               1.9200000000000008
              ],
              [
               0,
               0,
               3.84
              ],
              [
               3.84,
               0,
               3.8400000000000003
              ],
              [
               0,
               0,
               3.84
              ],
              [
               1.92,
               2.7152900397563426,
               1.9200000000000008
              ],
              [
               5.76,
               2.7152900397563426,
               -1.9199999999999988
              ],
              [
               5.76,
               2.7152900397563426,
               1.920000000000001
              ],
              [
               3.84,
               0,
               3.8400000000000003
              ],
              [
               5.76,
               2.7152900397563426,
               1.920000000000001
              ],
              [
               1.92,
               2.7152900397563426,
               1.9200000000000008
              ],
              [
               5.76,
               2.7152900397563426,
               1.920000000000001
              ]
             ],
             "type": "lines"
            }
           ],
           "id": "--unit_cell--a=3.84, b=3.8399999999999994, c=3.84, alpha=119.99999999999999, beta=90.0, gamma=60.00000000000001",
           "name": "a=3.84, b=3.8399999999999994, c=3.84, alpha=119.99999999999999, beta=90.0, gamma=60.00000000000001",
           "visible": true
          }
         ],
         "id": "--unit_cell",
         "name": "unit_cell",
         "origin": [
          -2.88,
          -1.3576450198781713,
          -0.9600000000000005
         ],
         "visible": true
        }
       ],
       "name": "Structure",
       "origin": [
        -2.88,
        -1.3576450198781713,
        -0.9600000000000005
       ],
       "visible": true
      },
      "text/plain": [
       "If you see this text, the Crystal Toolkit Jupyter Lab \n",
       "\n",
       "extension is not installed. You can install it by running \n",
       "\n",
       "\"jupyter labextension install crystaltoolkit-extension\" \n",
       "\n",
       "from the same environment you run \"jupyter lab\"\\. \n",
       "\n",
       "\n",
       "Structure Summary\n",
       "Lattice\n",
       "    abc : 3.84 3.8399999999999994 3.84\n",
       " angles : 119.99999999999999 90.0 60.00000000000001\n",
       " volume : 40.038580810231124\n",
       "      A : 3.84 0.0 2.351321854362918e-16\n",
       "      B : 1.92 2.7152900397563426 -1.919999999999999\n",
       "      C : 0.0 0.0 3.84\n",
       "PeriodicSite: Si (0.0000, 0.0000, 0.0000) [0.0000, 0.0000, 0.0000]\n",
       "PeriodicSite: Si (3.8400, 1.3576, 1.9200) [0.7500, 0.5000, 0.7500]"
      ]
     },
     "metadata": {},
     "output_type": "display_data"
    }
   ],
   "source": [
    "struct"
   ]
  },
  {
   "cell_type": "code",
   "execution_count": 10,
   "metadata": {},
   "outputs": [],
   "source": [
    "api_key = \"jpoPfDVnkQzAEIRb3I\""
   ]
  },
  {
   "cell_type": "code",
   "execution_count": 11,
   "metadata": {},
   "outputs": [
    {
     "name": "stdout",
     "output_type": "stream",
     "text": [
      "Connection established to Materials Project database, version 2020_09_08.\n",
      "0 of 2143 done 0.0%\n",
      "500 of 2143 done 23.3%\n",
      "1000 of 2143 done 46.7%\n",
      "1500 of 2143 done 70.0%\n",
      "2000 of 2143 done 93.3%\n",
      "2143 of 2143 done 100.0%\n"
     ]
    }
   ],
   "source": [
    "with MPRester(api_key) as m:\n",
    "    mpids = m.query(criteria={'theoretical': False,\n",
    "                            #'icsd_ids.0': {'$exists': True},\n",
    "                            #'nelements': {'$lt': 4},\n",
    "                            'nsites': {'$lt': 5},\n",
    "                            #'nsites': {'$eq': 5},\n",
    "                            'e_above_hull': {'$lt': 0.02},\n",
    "                            'warnings.0': {'$exists': False}\n",
    "                            },\n",
    "                            properties=['material_id','nsites','cifs.conventional_standard', 'exp.tags'])"
   ]
  },
  {
   "cell_type": "code",
   "execution_count": 8,
   "metadata": {},
   "outputs": [
    {
     "name": "stdout",
     "output_type": "stream",
     "text": [
      "54\n"
     ]
    }
   ],
   "source": [
    "print(len(mpids))"
   ]
  },
  {
   "cell_type": "code",
   "execution_count": null,
   "metadata": {},
   "outputs": [],
   "source": []
  }
 ],
 "metadata": {
  "kernelspec": {
   "display_name": "Python 3",
   "language": "python",
   "name": "python3"
  },
  "language_info": {
   "codemirror_mode": {
    "name": "ipython",
    "version": 3
   },
   "file_extension": ".py",
   "mimetype": "text/x-python",
   "name": "python",
   "nbconvert_exporter": "python",
   "pygments_lexer": "ipython3",
   "version": "3.7.8"
  }
 },
 "nbformat": 4,
 "nbformat_minor": 4
}
